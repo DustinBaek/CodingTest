{
 "cells": [
  {
   "cell_type": "code",
   "execution_count": null,
   "metadata": {},
   "outputs": [],
   "source": [
    "import numpy as np\n",
    "import numpy.random as random"
   ]
  },
  {
   "cell_type": "code",
   "execution_count": 86,
   "metadata": {},
   "outputs": [],
   "source": [
    "def solution(board, moves):\n",
    "    n_board =random.randint(low=5,high=31,size=1)\n",
    "    board = random.randint(0,101,(n_board,n_board))\n",
    "    n_moves = random.randint(low=1,high=1001,size=1)\n",
    "    moves = random.randint(size=n_moves)\n",
    "#     board.fill(random.randint(low=0,high=101,size=n))\n",
    "    N"
   ]
  },
  {
   "cell_type": "code",
   "execution_count": 5,
   "metadata": {},
   "outputs": [
    {
     "name": "stdout",
     "output_type": "stream",
     "text": [
      "[ 5  6  7  8  9 10 11 12 13 14 15 16 17 18 19 20 21 22 23 24 25 26 27 28\n",
      " 29 30]\n"
     ]
    }
   ],
   "source": [
    "N=np.arange(5,31)\n",
    "print(N)"
   ]
  },
  {
   "cell_type": "code",
   "execution_count": 80,
   "metadata": {},
   "outputs": [
    {
     "name": "stdout",
     "output_type": "stream",
     "text": [
      "[12]\n"
     ]
    }
   ],
   "source": [
    "n = random.randint(low =5, high =31, size = 1)\n",
    "print(n)"
   ]
  },
  {
   "cell_type": "code",
   "execution_count": 90,
   "metadata": {},
   "outputs": [
    {
     "name": "stdout",
     "output_type": "stream",
     "text": [
      "[[0.46032297 0.02547372 0.56502934 0.79996219 0.71746401]\n",
      " [0.32055577 0.78723752 0.41069136 0.35384774 0.53506473]\n",
      " [0.49534976 0.05027973 0.29457517 0.15780689 0.53310099]\n",
      " [0.41509291 0.72802409 0.62546396 0.06241723 0.47894614]\n",
      " [0.79822357 0.14984916 0.2053549  0.17995745 0.76715916]]\n",
      "[[35. 35. 35. 35. 35.]\n",
      " [35. 35. 35. 35. 35.]\n",
      " [35. 35. 35. 35. 35.]\n",
      " [35. 35. 35. 35. 35.]\n",
      " [35. 35. 35. 35. 35.]]\n"
     ]
    }
   ],
   "source": [
    "x = random.random([5,5])\n",
    "print(x)\n",
    "x.fill(random.randint(low=0,high=101))\n",
    "print(x)"
   ]
  },
  {
   "cell_type": "code",
   "execution_count": 92,
   "metadata": {
    "collapsed": true
   },
   "outputs": [
    {
     "name": "stdout",
     "output_type": "stream",
     "text": [
      "[[2 9 2 3 9]\n",
      " [9 8 7 8 0]\n",
      " [1 3 1 1 5]\n",
      " [1 6 3 0 8]\n",
      " [7 0 1 8 1]]\n"
     ]
    }
   ],
   "source": [
    "x=random.randint(0,10,(5,5))\n",
    "print(x)"
   ]
  }
 ],
 "metadata": {
  "kernelspec": {
   "display_name": "Python 3",
   "language": "python",
   "name": "python3"
  },
  "language_info": {
   "codemirror_mode": {
    "name": "ipython",
    "version": 3
   },
   "file_extension": ".py",
   "mimetype": "text/x-python",
   "name": "python",
   "nbconvert_exporter": "python",
   "pygments_lexer": "ipython3",
   "version": "3.7.6"
  },
  "widgets": {
   "application/vnd.jupyter.widget-state+json": {
    "state": {},
    "version_major": 2,
    "version_minor": 0
   }
  }
 },
 "nbformat": 4,
 "nbformat_minor": 4
}
